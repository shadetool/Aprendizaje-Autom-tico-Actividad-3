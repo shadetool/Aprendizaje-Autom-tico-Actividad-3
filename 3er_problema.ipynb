{
  "nbformat": 4,
  "nbformat_minor": 0,
  "metadata": {
    "colab": {
      "provenance": []
    },
    "kernelspec": {
      "name": "python3",
      "display_name": "Python 3"
    },
    "language_info": {
      "name": "python"
    }
  },
  "cells": [
    {
      "cell_type": "code",
      "execution_count": 1,
      "metadata": {
        "colab": {
          "base_uri": "https://localhost:8080/"
        },
        "id": "rHe0YE1p47r-",
        "outputId": "0d9e7cff-8522-4675-9d28-7903316c5f45"
      },
      "outputs": [
        {
          "output_type": "stream",
          "name": "stdout",
          "text": [
            "Salida predicha después del entrenamiento: \n",
            "[[0.06029012]\n",
            " [0.94447222]\n",
            " [0.944367  ]\n",
            " [0.05997169]]\n"
          ]
        }
      ],
      "source": [
        "import numpy as np\n",
        "\n",
        "# Función de activación sigmoid y su derivada\n",
        "def sigmoid(x):\n",
        "    return 1 / (1 + np.exp(-x))\n",
        "\n",
        "def sigmoid_derivative(x):\n",
        "    return x * (1 - x)\n",
        "\n",
        "# Entradas y salidas esperadas\n",
        "inputs = np.array([[0,0],[0,1],[1,0],[1,1]])\n",
        "expected_output = np.array([[0],[1],[1],[0]])\n",
        "\n",
        "# Inicialización de pesos y sesgos\n",
        "np.random.seed(42) # Para reproducibilidad\n",
        "weights_input_hidden = np.random.uniform(size=(inputs.shape[1], 2))\n",
        "weights_hidden_output = np.random.uniform(size=(2, 1))\n",
        "bias_hidden = np.random.uniform(size=(1, 2))\n",
        "bias_output = np.random.uniform(size=(1, 1))\n",
        "\n",
        "learning_rate = 0.1\n",
        "\n",
        "# Entrenamiento de la red\n",
        "for epoch in range(10000):\n",
        "    # Propagación hacia adelante\n",
        "    hidden_layer_activation = np.dot(inputs, weights_input_hidden) + bias_hidden\n",
        "    hidden_layer_output = sigmoid(hidden_layer_activation)\n",
        "\n",
        "    output_layer_activation = np.dot(hidden_layer_output, weights_hidden_output) + bias_output\n",
        "    predicted_output = sigmoid(output_layer_activation)\n",
        "\n",
        "    # Cálculo del error\n",
        "    error = expected_output - predicted_output\n",
        "\n",
        "    # Propagación hacia atrás\n",
        "    d_predicted_output = error * sigmoid_derivative(predicted_output)\n",
        "\n",
        "    error_hidden_layer = d_predicted_output.dot(weights_hidden_output.T)\n",
        "    d_hidden_layer = error_hidden_layer * sigmoid_derivative(hidden_layer_output)\n",
        "\n",
        "    # Actualización de pesos y sesgos\n",
        "    weights_hidden_output += hidden_layer_output.T.dot(d_predicted_output) * learning_rate\n",
        "    weights_input_hidden += inputs.T.dot(d_hidden_layer) * learning_rate\n",
        "    bias_output += np.sum(d_predicted_output,axis=0,keepdims=True) * learning_rate\n",
        "    bias_hidden += np.sum(d_hidden_layer,axis=0,keepdims=True) * learning_rate\n",
        "\n",
        "# Resultados\n",
        "print(\"Salida predicha después del entrenamiento: \")\n",
        "print(predicted_output)"
      ]
    },
    {
      "cell_type": "code",
      "source": [],
      "metadata": {
        "id": "MLOPjZKB5AJU"
      },
      "execution_count": null,
      "outputs": []
    }
  ]
}