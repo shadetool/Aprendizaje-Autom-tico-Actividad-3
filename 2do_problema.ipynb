{
  "nbformat": 4,
  "nbformat_minor": 0,
  "metadata": {
    "colab": {
      "provenance": []
    },
    "kernelspec": {
      "name": "python3",
      "display_name": "Python 3"
    },
    "language_info": {
      "name": "python"
    }
  },
  "cells": [
    {
      "cell_type": "code",
      "execution_count": 1,
      "metadata": {
        "colab": {
          "base_uri": "https://localhost:8080/"
        },
        "id": "pZOqeNGUszYU",
        "outputId": "ee103415-44a0-4137-e89f-33462f1a8b55"
      },
      "outputs": [
        {
          "output_type": "stream",
          "name": "stdout",
          "text": [
            "Primeras derivadas parciales de f1:\n",
            "df1/dx: 12*x**2*y - 7\n",
            "df1/dy: 4*x**3 + 10*y\n",
            "\n",
            "Primeras derivadas parciales de f2:\n",
            "df2/dx: y**2*exp(x)/(1 - exp(x))**2\n",
            "df2/dy: 2*y/(1 - exp(x))\n",
            "\n",
            "Segundas derivadas parciales de f1:\n",
            "d^2f1/dx^2: 24*x*y\n",
            "d^2f1/dy^2: 10\n",
            "d^2f1/dxdy: 12*x**2\n",
            "\n",
            "Segundas derivadas parciales de f2:\n",
            "d^2f2/dx^2: y**2*exp(x)/(1 - exp(x))**2 + 2*y**2*exp(2*x)/(1 - exp(x))**3\n",
            "d^2f2/dy^2: 2/(1 - exp(x))\n",
            "d^2f2/dxdy: 2*y*exp(x)/(1 - exp(x))**2\n"
          ]
        }
      ],
      "source": [
        "# Importa la biblioteca SymPy\n",
        "import sympy as sp\n",
        "\n",
        "# Define las variables simbólicas\n",
        "x, y = sp.symbols('x y')\n",
        "\n",
        "# Define las funciones\n",
        "f1 = 4*x**3*y + 5*y**2 - 7*x\n",
        "f2 = y**2 / (1 - sp.exp(x))\n",
        "\n",
        "# Calcula las primeras derivadas parciales\n",
        "df1_dx = sp.diff(f1, x)\n",
        "df1_dy = sp.diff(f1, y)\n",
        "\n",
        "df2_dx = sp.diff(f2, x)\n",
        "df2_dy = sp.diff(f2, y)\n",
        "\n",
        "# Calcula las segundas derivadas parciales\n",
        "d2f1_dx2 = sp.diff(df1_dx, x)\n",
        "d2f1_dy2 = sp.diff(df1_dy, y)\n",
        "d2f1_dxdy = sp.diff(df1_dx, y)\n",
        "\n",
        "d2f2_dx2 = sp.diff(df2_dx, x)\n",
        "d2f2_dy2 = sp.diff(df2_dy, y)\n",
        "d2f2_dxdy = sp.diff(df2_dx, y)\n",
        "\n",
        "# Imprime las derivadas parciales\n",
        "print(\"Primeras derivadas parciales de f1:\")\n",
        "print(\"df1/dx:\", df1_dx)\n",
        "print(\"df1/dy:\", df1_dy)\n",
        "\n",
        "print(\"\\nPrimeras derivadas parciales de f2:\")\n",
        "print(\"df2/dx:\", df2_dx)\n",
        "print(\"df2/dy:\", df2_dy)\n",
        "\n",
        "print(\"\\nSegundas derivadas parciales de f1:\")\n",
        "print(\"d^2f1/dx^2:\", d2f1_dx2)\n",
        "print(\"d^2f1/dy^2:\", d2f1_dy2)\n",
        "print(\"d^2f1/dxdy:\", d2f1_dxdy)\n",
        "\n",
        "print(\"\\nSegundas derivadas parciales de f2:\")\n",
        "print(\"d^2f2/dx^2:\", d2f2_dx2)\n",
        "print(\"d^2f2/dy^2:\", d2f2_dy2)\n",
        "print(\"d^2f2/dxdy:\", d2f2_dxdy)\n"
      ]
    },
    {
      "cell_type": "code",
      "source": [],
      "metadata": {
        "id": "lxS51JegtBta"
      },
      "execution_count": null,
      "outputs": []
    }
  ]
}