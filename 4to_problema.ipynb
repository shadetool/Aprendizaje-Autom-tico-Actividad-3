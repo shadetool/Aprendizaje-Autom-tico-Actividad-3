{
  "nbformat": 4,
  "nbformat_minor": 0,
  "metadata": {
    "colab": {
      "provenance": []
    },
    "kernelspec": {
      "name": "python3",
      "display_name": "Python 3"
    },
    "language_info": {
      "name": "python"
    }
  },
  "cells": [
    {
      "cell_type": "code",
      "execution_count": null,
      "metadata": {
        "colab": {
          "base_uri": "https://localhost:8080/"
        },
        "id": "EGl7nm1uZW5k",
        "outputId": "5ce3543e-ddcf-4f9c-fbb0-7df82d4b52b5"
      },
      "outputs": [
        {
          "output_type": "execute_result",
          "data": {
            "text/plain": [
              "0.3684210526315789"
            ]
          },
          "metadata": {},
          "execution_count": 10
        }
      ],
      "source": [
        "# Datos dados en el problema\n",
        "prob_falla_fuente_alimentacion = 0.30  # Probabilidad de que un equipo tenga una falla en la fuente de alimentación\n",
        "prob_reparacion_circuito_principal_exitosa = 0.75  # Probabilidad de éxito en la reparación de un equipo con falla en el circuito principal\n",
        "prob_falla_circuito_principal = 1 - prob_falla_fuente_alimentacion  # Probabilidad de falla en el circuito principal\n",
        "\n",
        "# Probabilidad de que un equipo no tuviera reparación teniendo en cuenta que la falla estaba en el circuito principal\n",
        "prob_no_reparacion_dado_circuito_principal = 1 - prob_reparacion_circuito_principal_exitosa\n",
        "\n",
        "# Probabilidad de que un equipo que no tuviera reparación hubiera ingresado al taller por problemas en la tarjeta principal\n",
        "# Usando la regla de Bayes\n",
        "prob_circuito_principal_dado_no_reparacion = (prob_no_reparacion_dado_circuito_principal * prob_falla_circuito_principal) / ((prob_no_reparacion_dado_circuito_principal * prob_falla_circuito_principal) + (1 * prob_falla_fuente_alimentacion))\n",
        "\n",
        "prob_circuito_principal_dado_no_reparacion\n"
      ]
    },
    {
      "cell_type": "code",
      "source": [],
      "metadata": {
        "id": "WMNsQ352rmSM"
      },
      "execution_count": null,
      "outputs": []
    }
  ]
}